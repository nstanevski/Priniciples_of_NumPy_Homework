{
 "cells": [
  {
   "cell_type": "code",
   "execution_count": 22,
   "outputs": [],
   "source": [
    "import numpy as np"
   ],
   "metadata": {
    "collapsed": false,
    "ExecuteTime": {
     "end_time": "2024-01-01T17:19:29.100911900Z",
     "start_time": "2024-01-01T17:19:28.740017300Z"
    }
   },
   "id": "a1b73734a9908e4e"
  },
  {
   "cell_type": "markdown",
   "source": [
    "Task #1 - Null Array: \n",
    "Write a program using NumPy that:\n",
    "    • Read as input an integer N\n",
    "    • Print a null array (consisting of zeros only) of length N"
   ],
   "metadata": {
    "collapsed": false
   },
   "id": "7c19807abd97000d"
  },
  {
   "cell_type": "code",
   "execution_count": 23,
   "outputs": [],
   "source": [
    "num = 5"
   ],
   "metadata": {
    "collapsed": false,
    "ExecuteTime": {
     "end_time": "2024-01-01T17:19:29.147798100Z",
     "start_time": "2024-01-01T17:19:28.997328900Z"
    }
   },
   "id": "b7f1fb888a4b2d15"
  },
  {
   "cell_type": "code",
   "execution_count": null,
   "outputs": [],
   "source": [
    "null_array = np.zeros(num)\n",
    "print(null_array)"
   ],
   "metadata": {
    "collapsed": false
   },
   "id": "6ccd1210445533ff"
  },
  {
   "cell_type": "markdown",
   "source": [
    "Task #2 - Consecutive Array:\n",
    "Write a program using NumPy that:\n",
    "    • Read as input two integers – start number and end number\n",
    "    • Print an array ranging from start number to end number inclusive"
   ],
   "metadata": {
    "collapsed": false
   },
   "id": "79e08d4dc7400291"
  },
  {
   "cell_type": "code",
   "execution_count": 24,
   "outputs": [],
   "source": [
    "s = -5\n",
    "e = 0"
   ],
   "metadata": {
    "collapsed": false,
    "ExecuteTime": {
     "end_time": "2024-01-01T17:19:29.147798100Z",
     "start_time": "2024-01-01T17:19:29.022005800Z"
    }
   },
   "id": "c58efd8fd55f73bb"
  },
  {
   "cell_type": "code",
   "execution_count": 25,
   "outputs": [],
   "source": [
    "cons_arr = np.arange(s, e+1)"
   ],
   "metadata": {
    "collapsed": false,
    "ExecuteTime": {
     "end_time": "2024-01-01T17:19:29.147798100Z",
     "start_time": "2024-01-01T17:19:29.028016300Z"
    }
   },
   "id": "f5bf02ef46842cd7"
  },
  {
   "cell_type": "code",
   "execution_count": 26,
   "outputs": [
    {
     "name": "stdout",
     "output_type": "stream",
     "text": [
      "[-5 -4 -3 -2 -1  0]\n"
     ]
    }
   ],
   "source": [
    "print(cons_arr)"
   ],
   "metadata": {
    "collapsed": false,
    "ExecuteTime": {
     "end_time": "2024-01-01T17:19:29.147798100Z",
     "start_time": "2024-01-01T17:19:29.037925100Z"
    }
   },
   "id": "99eb602c0d5ac74e"
  },
  {
   "cell_type": "markdown",
   "source": [
    "Task #3 - Identity matrix\n",
    "Write a program using NumPy that:\n",
    "    • Read an integer number N \n",
    "    • Print an identity matrix of size N"
   ],
   "metadata": {
    "collapsed": false
   },
   "id": "d357d2abd7051648"
  },
  {
   "cell_type": "code",
   "execution_count": 27,
   "outputs": [],
   "source": [
    "N = 1"
   ],
   "metadata": {
    "collapsed": false,
    "ExecuteTime": {
     "end_time": "2024-01-01T17:19:29.147798100Z",
     "start_time": "2024-01-01T17:19:29.040531100Z"
    }
   },
   "id": "48b06de936ba6211"
  },
  {
   "cell_type": "code",
   "execution_count": 28,
   "outputs": [],
   "source": [
    "identity = np.identity(N)"
   ],
   "metadata": {
    "collapsed": false,
    "ExecuteTime": {
     "end_time": "2024-01-01T17:19:29.147798100Z",
     "start_time": "2024-01-01T17:19:29.047284100Z"
    }
   },
   "id": "7790d50d4eec6f54"
  },
  {
   "cell_type": "code",
   "execution_count": 29,
   "outputs": [
    {
     "name": "stdout",
     "output_type": "stream",
     "text": [
      "[[1.]]\n"
     ]
    }
   ],
   "source": [
    "print(identity)"
   ],
   "metadata": {
    "collapsed": false,
    "ExecuteTime": {
     "end_time": "2024-01-01T17:19:29.147798100Z",
     "start_time": "2024-01-01T17:19:29.056726800Z"
    }
   },
   "id": "36242711545d7a83"
  },
  {
   "cell_type": "markdown",
   "source": [
    "Task #4 - Evenly Spaced Array\n",
    "Write a program using NumPy that:\n",
    "    • Read  three integers – start, stop, and N\n",
    "    • Prints an array of N with evenly spaced numbers between start and stop"
   ],
   "metadata": {
    "collapsed": false
   },
   "id": "c42c19fc6bce6259"
  },
  {
   "cell_type": "code",
   "execution_count": 30,
   "outputs": [],
   "source": [
    "start = -10\n",
    "stop = 10\n",
    "n = 3"
   ],
   "metadata": {
    "collapsed": false,
    "ExecuteTime": {
     "end_time": "2024-01-01T17:19:29.147798100Z",
     "start_time": "2024-01-01T17:19:29.071283700Z"
    }
   },
   "id": "228119a7e8c247d6"
  },
  {
   "cell_type": "code",
   "execution_count": 31,
   "outputs": [],
   "source": [
    "evenly_spaced_arr = np.linspace(start, stop, n)"
   ],
   "metadata": {
    "collapsed": false,
    "ExecuteTime": {
     "end_time": "2024-01-01T17:19:29.163424Z",
     "start_time": "2024-01-01T17:19:29.079574500Z"
    }
   },
   "id": "b5fd4a86dd36d32d"
  },
  {
   "cell_type": "code",
   "execution_count": 32,
   "outputs": [
    {
     "name": "stdout",
     "output_type": "stream",
     "text": [
      "[-10.   0.  10.]\n"
     ]
    }
   ],
   "source": [
    "print(evenly_spaced_arr)"
   ],
   "metadata": {
    "collapsed": false,
    "ExecuteTime": {
     "end_time": "2024-01-01T17:19:29.163424Z",
     "start_time": "2024-01-01T17:19:29.088420200Z"
    }
   },
   "id": "8e2e20e80290c320"
  }
 ],
 "metadata": {
  "kernelspec": {
   "display_name": "Python 3",
   "language": "python",
   "name": "python3"
  },
  "language_info": {
   "codemirror_mode": {
    "name": "ipython",
    "version": 2
   },
   "file_extension": ".py",
   "mimetype": "text/x-python",
   "name": "python",
   "nbconvert_exporter": "python",
   "pygments_lexer": "ipython2",
   "version": "2.7.6"
  }
 },
 "nbformat": 4,
 "nbformat_minor": 5
}
